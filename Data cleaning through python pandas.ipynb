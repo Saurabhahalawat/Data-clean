{
 "cells": [
  {
   "cell_type": "code",
   "execution_count": 1,
   "id": "62dc5381",
   "metadata": {},
   "outputs": [],
   "source": [
    "import numpy as np \n",
    "import pandas as pd"
   ]
  },
  {
   "cell_type": "markdown",
   "id": "80aae2d5",
   "metadata": {},
   "source": [
    "### Lets call data in work enviroment"
   ]
  },
  {
   "cell_type": "code",
   "execution_count": 2,
   "id": "c089cad9",
   "metadata": {},
   "outputs": [],
   "source": [
    "df = pd.read_csv('autos.csv', encoding='latin-1')"
   ]
  },
  {
   "cell_type": "markdown",
   "id": "4c27b0d7",
   "metadata": {},
   "source": [
    "### Look in data demography"
   ]
  },
  {
   "cell_type": "code",
   "execution_count": 3,
   "id": "fe20145e",
   "metadata": {},
   "outputs": [
    {
     "data": {
      "text/html": [
       "<div>\n",
       "<style scoped>\n",
       "    .dataframe tbody tr th:only-of-type {\n",
       "        vertical-align: middle;\n",
       "    }\n",
       "\n",
       "    .dataframe tbody tr th {\n",
       "        vertical-align: top;\n",
       "    }\n",
       "\n",
       "    .dataframe thead th {\n",
       "        text-align: right;\n",
       "    }\n",
       "</style>\n",
       "<table border=\"1\" class=\"dataframe\">\n",
       "  <thead>\n",
       "    <tr style=\"text-align: right;\">\n",
       "      <th></th>\n",
       "      <th>dateCrawled</th>\n",
       "      <th>name</th>\n",
       "      <th>seller</th>\n",
       "      <th>offerType</th>\n",
       "      <th>price</th>\n",
       "      <th>abtest</th>\n",
       "      <th>vehicleType</th>\n",
       "      <th>yearOfRegistration</th>\n",
       "      <th>gearbox</th>\n",
       "      <th>powerPS</th>\n",
       "      <th>model</th>\n",
       "      <th>odometer</th>\n",
       "      <th>monthOfRegistration</th>\n",
       "      <th>fuelType</th>\n",
       "      <th>brand</th>\n",
       "      <th>notRepairedDamage</th>\n",
       "      <th>dateCreated</th>\n",
       "      <th>nrOfPictures</th>\n",
       "      <th>postalCode</th>\n",
       "      <th>lastSeen</th>\n",
       "    </tr>\n",
       "  </thead>\n",
       "  <tbody>\n",
       "    <tr>\n",
       "      <th>0</th>\n",
       "      <td>2016-03-26 17:47:46</td>\n",
       "      <td>Peugeot_807_160_NAVTECH_ON_BOARD</td>\n",
       "      <td>privat</td>\n",
       "      <td>Angebot</td>\n",
       "      <td>$5,000</td>\n",
       "      <td>control</td>\n",
       "      <td>bus</td>\n",
       "      <td>2004</td>\n",
       "      <td>manuell</td>\n",
       "      <td>158</td>\n",
       "      <td>andere</td>\n",
       "      <td>150,000km</td>\n",
       "      <td>3</td>\n",
       "      <td>lpg</td>\n",
       "      <td>peugeot</td>\n",
       "      <td>nein</td>\n",
       "      <td>2016-03-26 00:00:00</td>\n",
       "      <td>0</td>\n",
       "      <td>79588</td>\n",
       "      <td>2016-04-06 06:45:54</td>\n",
       "    </tr>\n",
       "    <tr>\n",
       "      <th>1</th>\n",
       "      <td>2016-04-04 13:38:56</td>\n",
       "      <td>BMW_740i_4_4_Liter_HAMANN_UMBAU_Mega_Optik</td>\n",
       "      <td>privat</td>\n",
       "      <td>Angebot</td>\n",
       "      <td>$8,500</td>\n",
       "      <td>control</td>\n",
       "      <td>limousine</td>\n",
       "      <td>1997</td>\n",
       "      <td>automatik</td>\n",
       "      <td>286</td>\n",
       "      <td>7er</td>\n",
       "      <td>150,000km</td>\n",
       "      <td>6</td>\n",
       "      <td>benzin</td>\n",
       "      <td>bmw</td>\n",
       "      <td>nein</td>\n",
       "      <td>2016-04-04 00:00:00</td>\n",
       "      <td>0</td>\n",
       "      <td>71034</td>\n",
       "      <td>2016-04-06 14:45:08</td>\n",
       "    </tr>\n",
       "    <tr>\n",
       "      <th>2</th>\n",
       "      <td>2016-03-26 18:57:24</td>\n",
       "      <td>Volkswagen_Golf_1.6_United</td>\n",
       "      <td>privat</td>\n",
       "      <td>Angebot</td>\n",
       "      <td>$8,990</td>\n",
       "      <td>test</td>\n",
       "      <td>limousine</td>\n",
       "      <td>2009</td>\n",
       "      <td>manuell</td>\n",
       "      <td>102</td>\n",
       "      <td>golf</td>\n",
       "      <td>70,000km</td>\n",
       "      <td>7</td>\n",
       "      <td>benzin</td>\n",
       "      <td>volkswagen</td>\n",
       "      <td>nein</td>\n",
       "      <td>2016-03-26 00:00:00</td>\n",
       "      <td>0</td>\n",
       "      <td>35394</td>\n",
       "      <td>2016-04-06 20:15:37</td>\n",
       "    </tr>\n",
       "    <tr>\n",
       "      <th>3</th>\n",
       "      <td>2016-03-12 16:58:10</td>\n",
       "      <td>Smart_smart_fortwo_coupe_softouch/F1/Klima/Pan...</td>\n",
       "      <td>privat</td>\n",
       "      <td>Angebot</td>\n",
       "      <td>$4,350</td>\n",
       "      <td>control</td>\n",
       "      <td>kleinwagen</td>\n",
       "      <td>2007</td>\n",
       "      <td>automatik</td>\n",
       "      <td>71</td>\n",
       "      <td>fortwo</td>\n",
       "      <td>70,000km</td>\n",
       "      <td>6</td>\n",
       "      <td>benzin</td>\n",
       "      <td>smart</td>\n",
       "      <td>nein</td>\n",
       "      <td>2016-03-12 00:00:00</td>\n",
       "      <td>0</td>\n",
       "      <td>33729</td>\n",
       "      <td>2016-03-15 03:16:28</td>\n",
       "    </tr>\n",
       "    <tr>\n",
       "      <th>4</th>\n",
       "      <td>2016-04-01 14:38:50</td>\n",
       "      <td>Ford_Focus_1_6_Benzin_TÜV_neu_ist_sehr_gepfleg...</td>\n",
       "      <td>privat</td>\n",
       "      <td>Angebot</td>\n",
       "      <td>$1,350</td>\n",
       "      <td>test</td>\n",
       "      <td>kombi</td>\n",
       "      <td>2003</td>\n",
       "      <td>manuell</td>\n",
       "      <td>0</td>\n",
       "      <td>focus</td>\n",
       "      <td>150,000km</td>\n",
       "      <td>7</td>\n",
       "      <td>benzin</td>\n",
       "      <td>ford</td>\n",
       "      <td>nein</td>\n",
       "      <td>2016-04-01 00:00:00</td>\n",
       "      <td>0</td>\n",
       "      <td>39218</td>\n",
       "      <td>2016-04-01 14:38:50</td>\n",
       "    </tr>\n",
       "  </tbody>\n",
       "</table>\n",
       "</div>"
      ],
      "text/plain": [
       "           dateCrawled                                               name  \\\n",
       "0  2016-03-26 17:47:46                   Peugeot_807_160_NAVTECH_ON_BOARD   \n",
       "1  2016-04-04 13:38:56         BMW_740i_4_4_Liter_HAMANN_UMBAU_Mega_Optik   \n",
       "2  2016-03-26 18:57:24                         Volkswagen_Golf_1.6_United   \n",
       "3  2016-03-12 16:58:10  Smart_smart_fortwo_coupe_softouch/F1/Klima/Pan...   \n",
       "4  2016-04-01 14:38:50  Ford_Focus_1_6_Benzin_TÜV_neu_ist_sehr_gepfleg...   \n",
       "\n",
       "   seller offerType   price   abtest vehicleType  yearOfRegistration  \\\n",
       "0  privat   Angebot  $5,000  control         bus                2004   \n",
       "1  privat   Angebot  $8,500  control   limousine                1997   \n",
       "2  privat   Angebot  $8,990     test   limousine                2009   \n",
       "3  privat   Angebot  $4,350  control  kleinwagen                2007   \n",
       "4  privat   Angebot  $1,350     test       kombi                2003   \n",
       "\n",
       "     gearbox  powerPS   model   odometer  monthOfRegistration fuelType  \\\n",
       "0    manuell      158  andere  150,000km                    3      lpg   \n",
       "1  automatik      286     7er  150,000km                    6   benzin   \n",
       "2    manuell      102    golf   70,000km                    7   benzin   \n",
       "3  automatik       71  fortwo   70,000km                    6   benzin   \n",
       "4    manuell        0   focus  150,000km                    7   benzin   \n",
       "\n",
       "        brand notRepairedDamage          dateCreated  nrOfPictures  \\\n",
       "0     peugeot              nein  2016-03-26 00:00:00             0   \n",
       "1         bmw              nein  2016-04-04 00:00:00             0   \n",
       "2  volkswagen              nein  2016-03-26 00:00:00             0   \n",
       "3       smart              nein  2016-03-12 00:00:00             0   \n",
       "4        ford              nein  2016-04-01 00:00:00             0   \n",
       "\n",
       "   postalCode             lastSeen  \n",
       "0       79588  2016-04-06 06:45:54  \n",
       "1       71034  2016-04-06 14:45:08  \n",
       "2       35394  2016-04-06 20:15:37  \n",
       "3       33729  2016-03-15 03:16:28  \n",
       "4       39218  2016-04-01 14:38:50  "
      ]
     },
     "execution_count": 3,
     "metadata": {},
     "output_type": "execute_result"
    }
   ],
   "source": [
    "df.head(5)"
   ]
  },
  {
   "cell_type": "code",
   "execution_count": 4,
   "id": "772e1907",
   "metadata": {},
   "outputs": [
    {
     "data": {
      "text/plain": [
       "2"
      ]
     },
     "execution_count": 4,
     "metadata": {},
     "output_type": "execute_result"
    }
   ],
   "source": [
    "df.ndim\n",
    "# number of dimensions"
   ]
  },
  {
   "cell_type": "code",
   "execution_count": 5,
   "id": "8abf2354",
   "metadata": {},
   "outputs": [
    {
     "data": {
      "text/plain": [
       "(50000, 20)"
      ]
     },
     "execution_count": 5,
     "metadata": {},
     "output_type": "execute_result"
    }
   ],
   "source": [
    "df.shape\n",
    "# 50000 rows and 20 columns"
   ]
  },
  {
   "cell_type": "code",
   "execution_count": 6,
   "id": "0167a0de",
   "metadata": {},
   "outputs": [
    {
     "data": {
      "text/plain": [
       "dateCrawled            object\n",
       "name                   object\n",
       "seller                 object\n",
       "offerType              object\n",
       "price                  object\n",
       "abtest                 object\n",
       "vehicleType            object\n",
       "yearOfRegistration      int64\n",
       "gearbox                object\n",
       "powerPS                 int64\n",
       "model                  object\n",
       "odometer               object\n",
       "monthOfRegistration     int64\n",
       "fuelType               object\n",
       "brand                  object\n",
       "notRepairedDamage      object\n",
       "dateCreated            object\n",
       "nrOfPictures            int64\n",
       "postalCode              int64\n",
       "lastSeen               object\n",
       "dtype: object"
      ]
     },
     "execution_count": 6,
     "metadata": {},
     "output_type": "execute_result"
    }
   ],
   "source": [
    "df.dtypes\n",
    "# data type according to columns in raw dataset"
   ]
  },
  {
   "cell_type": "code",
   "execution_count": 7,
   "id": "52ddbbdc",
   "metadata": {},
   "outputs": [
    {
     "name": "stdout",
     "output_type": "stream",
     "text": [
      "dateCrawled\n",
      "name\n",
      "seller\n",
      "offerType\n",
      "price\n",
      "abtest\n",
      "vehicleType\n",
      "yearOfRegistration\n",
      "gearbox\n",
      "powerPS\n",
      "model\n",
      "odometer\n",
      "monthOfRegistration\n",
      "fuelType\n",
      "brand\n",
      "notRepairedDamage\n",
      "dateCreated\n",
      "nrOfPictures\n",
      "postalCode\n",
      "lastSeen\n"
     ]
    }
   ],
   "source": [
    "for col in df:\n",
    "    print(col)\n",
    "# columns presents in dataset"
   ]
  },
  {
   "cell_type": "markdown",
   "id": "ae256b12",
   "metadata": {},
   "source": [
    "**so our dataset have 50,000 rows and 20 columns  \n",
    "and most of columns have object data type and some of columns  \n",
    "have int64 data type**"
   ]
  },
  {
   "cell_type": "markdown",
   "id": "750121d5",
   "metadata": {},
   "source": [
    "# Data Cleaning"
   ]
  },
  {
   "cell_type": "markdown",
   "id": "9123d3ac",
   "metadata": {},
   "source": [
    "### Messy columns name \n",
    "**changing messy columns name to more  \n",
    "readable format**"
   ]
  },
  {
   "cell_type": "code",
   "execution_count": 8,
   "id": "3baeb4aa",
   "metadata": {},
   "outputs": [],
   "source": [
    "df.rename(columns={'dateCrawled':'Date_Crawled',\n",
    "                  'offerType':'Offer_Type',\n",
    "                  'vehicleType':'Vehicle_Type',\n",
    "                  'yearOfRegistration':'Year_of_Registration',\n",
    "                  'monthOfRegistration':'Month_of_Registration',\n",
    "                  'monthOfRegistration':'Month_of_Registration',\n",
    "                  'notRepairedDamage':'Not_Repaired_Damage',\n",
    "                  'dateCreated':'Date_Created',\n",
    "                  'nrOfPictures':'Nr_of_Pictures',\n",
    "                  'postalCode':'Postal_Code',\n",
    "                  'lastSeen':'Last_Seen',\n",
    "                  'fuelType':'Fuel_Type',\n",
    "                  'powerPS':'Horse_power',\n",
    "                  'name':'Name',\n",
    "                  'seller':'Seller',\n",
    "                  'price':'Price',\n",
    "                  'abtest':'Abtest',\n",
    "                  'gearbox':'Gearbox',\n",
    "                  'model':'Model',\n",
    "                  'odometer':'Odometer',\n",
    "                  'fueltype':'Fuel_Type',\n",
    "                  'brand':'Brand'},\n",
    "         inplace=True)\n"
   ]
  },
  {
   "cell_type": "markdown",
   "id": "5876b564",
   "metadata": {},
   "source": [
    "### Inspecting null values inside data set"
   ]
  },
  {
   "cell_type": "code",
   "execution_count": 9,
   "id": "d12fbad8",
   "metadata": {},
   "outputs": [
    {
     "name": "stdout",
     "output_type": "stream",
     "text": [
      "Date_Crawled                0\n",
      "Name                        0\n",
      "Seller                      0\n",
      "Offer_Type                  0\n",
      "Price                       0\n",
      "Abtest                      0\n",
      "Vehicle_Type             5095\n",
      "Year_of_Registration        0\n",
      "Gearbox                  2680\n",
      "Horse_power                 0\n",
      "Model                    2758\n",
      "Odometer                    0\n",
      "Month_of_Registration       0\n",
      "Fuel_Type                4482\n",
      "Brand                       0\n",
      "Not_Repaired_Damage      9829\n",
      "Date_Created                0\n",
      "Nr_of_Pictures              0\n",
      "Postal_Code                 0\n",
      "Last_Seen                   0\n",
      "dtype: int64\n",
      "total null value cells inside dataset is 24844\n"
     ]
    }
   ],
   "source": [
    "print(df.isnull().sum())\n",
    "print('total null value cells inside dataset is',df.isnull().sum().sum())"
   ]
  },
  {
   "cell_type": "code",
   "execution_count": 10,
   "id": "98e400bc",
   "metadata": {},
   "outputs": [
    {
     "name": "stdout",
     "output_type": "stream",
     "text": [
      "total null value cells inside dataset is 0\n"
     ]
    }
   ],
   "source": [
    "df.dropna(inplace=True)\n",
    "print('total null value cells inside dataset is',df.isnull().sum().sum())"
   ]
  },
  {
   "cell_type": "markdown",
   "id": "03ef22c5",
   "metadata": {},
   "source": [
    "### Inspecting zero values inside data set"
   ]
  },
  {
   "cell_type": "code",
   "execution_count": 11,
   "id": "36f4401d",
   "metadata": {},
   "outputs": [
    {
     "name": "stdout",
     "output_type": "stream",
     "text": [
      "Date_Crawled                 0\n",
      "Name                         0\n",
      "Seller                       0\n",
      "Offer_Type                   0\n",
      "Price                        0\n",
      "Abtest                       0\n",
      "Vehicle_Type                 0\n",
      "Year_of_Registration         0\n",
      "Gearbox                      0\n",
      "Horse_power               1309\n",
      "Model                        0\n",
      "Odometer                     0\n",
      "Month_of_Registration     1008\n",
      "Fuel_Type                    0\n",
      "Brand                        0\n",
      "Not_Repaired_Damage          0\n",
      "Date_Created                 0\n",
      "Nr_of_Pictures           35047\n",
      "Postal_Code                  0\n",
      "Last_Seen                    0\n",
      "dtype: int64\n",
      "total zero value cells in datset is 37364\n"
     ]
    }
   ],
   "source": [
    "print((df==0).sum())\n",
    "print('total zero value cells in datset is',(df==0).sum().sum())"
   ]
  },
  {
   "cell_type": "markdown",
   "id": "8e6874f7",
   "metadata": {},
   "source": [
    "### inspecting for duplicated rows inside data"
   ]
  },
  {
   "cell_type": "code",
   "execution_count": 12,
   "id": "28213f94",
   "metadata": {},
   "outputs": [
    {
     "data": {
      "text/plain": [
       "0"
      ]
     },
     "execution_count": 12,
     "metadata": {},
     "output_type": "execute_result"
    }
   ],
   "source": [
    "df.duplicated().sum()"
   ]
  },
  {
   "cell_type": "markdown",
   "id": "c1efce25",
   "metadata": {},
   "source": [
    "### Removing data inaccuracies"
   ]
  },
  {
   "cell_type": "code",
   "execution_count": 13,
   "id": "7c5ed999",
   "metadata": {},
   "outputs": [
    {
     "data": {
      "text/html": [
       "<div>\n",
       "<style scoped>\n",
       "    .dataframe tbody tr th:only-of-type {\n",
       "        vertical-align: middle;\n",
       "    }\n",
       "\n",
       "    .dataframe tbody tr th {\n",
       "        vertical-align: top;\n",
       "    }\n",
       "\n",
       "    .dataframe thead th {\n",
       "        text-align: right;\n",
       "    }\n",
       "</style>\n",
       "<table border=\"1\" class=\"dataframe\">\n",
       "  <thead>\n",
       "    <tr style=\"text-align: right;\">\n",
       "      <th></th>\n",
       "      <th>Date_Crawled</th>\n",
       "      <th>Name</th>\n",
       "      <th>Seller</th>\n",
       "      <th>Offer_Type</th>\n",
       "      <th>Price</th>\n",
       "      <th>Abtest</th>\n",
       "      <th>Vehicle_Type</th>\n",
       "      <th>Year_of_Registration</th>\n",
       "      <th>Gearbox</th>\n",
       "      <th>Horse_power</th>\n",
       "      <th>Model</th>\n",
       "      <th>Odometer</th>\n",
       "      <th>Month_of_Registration</th>\n",
       "      <th>Fuel_Type</th>\n",
       "      <th>Brand</th>\n",
       "      <th>Not_Repaired_Damage</th>\n",
       "      <th>Date_Created</th>\n",
       "      <th>Nr_of_Pictures</th>\n",
       "      <th>Postal_Code</th>\n",
       "      <th>Last_Seen</th>\n",
       "    </tr>\n",
       "  </thead>\n",
       "  <tbody>\n",
       "    <tr>\n",
       "      <th>0</th>\n",
       "      <td>2016-03-26 17:47:46</td>\n",
       "      <td>Peugeot_807_160_NAVTECH_ON_BOARD</td>\n",
       "      <td>privat</td>\n",
       "      <td>Angebot</td>\n",
       "      <td>$5,000</td>\n",
       "      <td>control</td>\n",
       "      <td>bus</td>\n",
       "      <td>2004</td>\n",
       "      <td>manuell</td>\n",
       "      <td>158</td>\n",
       "      <td>andere</td>\n",
       "      <td>150,000km</td>\n",
       "      <td>3</td>\n",
       "      <td>lpg</td>\n",
       "      <td>peugeot</td>\n",
       "      <td>nein</td>\n",
       "      <td>2016-03-26 00:00:00</td>\n",
       "      <td>0</td>\n",
       "      <td>79588</td>\n",
       "      <td>2016-04-06 06:45:54</td>\n",
       "    </tr>\n",
       "    <tr>\n",
       "      <th>1</th>\n",
       "      <td>2016-04-04 13:38:56</td>\n",
       "      <td>BMW_740i_4_4_Liter_HAMANN_UMBAU_Mega_Optik</td>\n",
       "      <td>privat</td>\n",
       "      <td>Angebot</td>\n",
       "      <td>$8,500</td>\n",
       "      <td>control</td>\n",
       "      <td>limousine</td>\n",
       "      <td>1997</td>\n",
       "      <td>automatik</td>\n",
       "      <td>286</td>\n",
       "      <td>7er</td>\n",
       "      <td>150,000km</td>\n",
       "      <td>6</td>\n",
       "      <td>benzin</td>\n",
       "      <td>bmw</td>\n",
       "      <td>nein</td>\n",
       "      <td>2016-04-04 00:00:00</td>\n",
       "      <td>0</td>\n",
       "      <td>71034</td>\n",
       "      <td>2016-04-06 14:45:08</td>\n",
       "    </tr>\n",
       "    <tr>\n",
       "      <th>2</th>\n",
       "      <td>2016-03-26 18:57:24</td>\n",
       "      <td>Volkswagen_Golf_1.6_United</td>\n",
       "      <td>privat</td>\n",
       "      <td>Angebot</td>\n",
       "      <td>$8,990</td>\n",
       "      <td>test</td>\n",
       "      <td>limousine</td>\n",
       "      <td>2009</td>\n",
       "      <td>manuell</td>\n",
       "      <td>102</td>\n",
       "      <td>golf</td>\n",
       "      <td>70,000km</td>\n",
       "      <td>7</td>\n",
       "      <td>benzin</td>\n",
       "      <td>volkswagen</td>\n",
       "      <td>nein</td>\n",
       "      <td>2016-03-26 00:00:00</td>\n",
       "      <td>0</td>\n",
       "      <td>35394</td>\n",
       "      <td>2016-04-06 20:15:37</td>\n",
       "    </tr>\n",
       "    <tr>\n",
       "      <th>3</th>\n",
       "      <td>2016-03-12 16:58:10</td>\n",
       "      <td>Smart_smart_fortwo_coupe_softouch/F1/Klima/Pan...</td>\n",
       "      <td>privat</td>\n",
       "      <td>Angebot</td>\n",
       "      <td>$4,350</td>\n",
       "      <td>control</td>\n",
       "      <td>kleinwagen</td>\n",
       "      <td>2007</td>\n",
       "      <td>automatik</td>\n",
       "      <td>71</td>\n",
       "      <td>fortwo</td>\n",
       "      <td>70,000km</td>\n",
       "      <td>6</td>\n",
       "      <td>benzin</td>\n",
       "      <td>smart</td>\n",
       "      <td>nein</td>\n",
       "      <td>2016-03-12 00:00:00</td>\n",
       "      <td>0</td>\n",
       "      <td>33729</td>\n",
       "      <td>2016-03-15 03:16:28</td>\n",
       "    </tr>\n",
       "    <tr>\n",
       "      <th>4</th>\n",
       "      <td>2016-04-01 14:38:50</td>\n",
       "      <td>Ford_Focus_1_6_Benzin_TÜV_neu_ist_sehr_gepfleg...</td>\n",
       "      <td>privat</td>\n",
       "      <td>Angebot</td>\n",
       "      <td>$1,350</td>\n",
       "      <td>test</td>\n",
       "      <td>kombi</td>\n",
       "      <td>2003</td>\n",
       "      <td>manuell</td>\n",
       "      <td>0</td>\n",
       "      <td>focus</td>\n",
       "      <td>150,000km</td>\n",
       "      <td>7</td>\n",
       "      <td>benzin</td>\n",
       "      <td>ford</td>\n",
       "      <td>nein</td>\n",
       "      <td>2016-04-01 00:00:00</td>\n",
       "      <td>0</td>\n",
       "      <td>39218</td>\n",
       "      <td>2016-04-01 14:38:50</td>\n",
       "    </tr>\n",
       "  </tbody>\n",
       "</table>\n",
       "</div>"
      ],
      "text/plain": [
       "          Date_Crawled                                               Name  \\\n",
       "0  2016-03-26 17:47:46                   Peugeot_807_160_NAVTECH_ON_BOARD   \n",
       "1  2016-04-04 13:38:56         BMW_740i_4_4_Liter_HAMANN_UMBAU_Mega_Optik   \n",
       "2  2016-03-26 18:57:24                         Volkswagen_Golf_1.6_United   \n",
       "3  2016-03-12 16:58:10  Smart_smart_fortwo_coupe_softouch/F1/Klima/Pan...   \n",
       "4  2016-04-01 14:38:50  Ford_Focus_1_6_Benzin_TÜV_neu_ist_sehr_gepfleg...   \n",
       "\n",
       "   Seller Offer_Type   Price   Abtest Vehicle_Type  Year_of_Registration  \\\n",
       "0  privat    Angebot  $5,000  control          bus                  2004   \n",
       "1  privat    Angebot  $8,500  control    limousine                  1997   \n",
       "2  privat    Angebot  $8,990     test    limousine                  2009   \n",
       "3  privat    Angebot  $4,350  control   kleinwagen                  2007   \n",
       "4  privat    Angebot  $1,350     test        kombi                  2003   \n",
       "\n",
       "     Gearbox  Horse_power   Model   Odometer  Month_of_Registration Fuel_Type  \\\n",
       "0    manuell          158  andere  150,000km                      3       lpg   \n",
       "1  automatik          286     7er  150,000km                      6    benzin   \n",
       "2    manuell          102    golf   70,000km                      7    benzin   \n",
       "3  automatik           71  fortwo   70,000km                      6    benzin   \n",
       "4    manuell            0   focus  150,000km                      7    benzin   \n",
       "\n",
       "        Brand Not_Repaired_Damage         Date_Created  Nr_of_Pictures  \\\n",
       "0     peugeot                nein  2016-03-26 00:00:00               0   \n",
       "1         bmw                nein  2016-04-04 00:00:00               0   \n",
       "2  volkswagen                nein  2016-03-26 00:00:00               0   \n",
       "3       smart                nein  2016-03-12 00:00:00               0   \n",
       "4        ford                nein  2016-04-01 00:00:00               0   \n",
       "\n",
       "   Postal_Code            Last_Seen  \n",
       "0        79588  2016-04-06 06:45:54  \n",
       "1        71034  2016-04-06 14:45:08  \n",
       "2        35394  2016-04-06 20:15:37  \n",
       "3        33729  2016-03-15 03:16:28  \n",
       "4        39218  2016-04-01 14:38:50  "
      ]
     },
     "execution_count": 13,
     "metadata": {},
     "output_type": "execute_result"
    }
   ],
   "source": [
    "df.head(5)"
   ]
  },
  {
   "cell_type": "markdown",
   "id": "f037c6ee",
   "metadata": {},
   "source": [
    "### Correcting misspelled Data \n",
    "**some columns have mispelled data\n",
    "so we going to spelled them correct  \n",
    "and also converting german words into english**"
   ]
  },
  {
   "cell_type": "code",
   "execution_count": 14,
   "id": "be5b2695",
   "metadata": {},
   "outputs": [
    {
     "name": "stdout",
     "output_type": "stream",
     "text": [
      "Date_Crawled\n",
      "['2016-03-26 17:47:46' '2016-04-04 13:38:56' '2016-03-26 18:57:24' ...\n",
      " '2016-04-02 14:44:48' '2016-03-08 19:25:42' '2016-03-14 00:42:12']\n",
      "----------------------------------------------------------------------------------\n",
      "Name\n",
      "['Peugeot_807_160_NAVTECH_ON_BOARD'\n",
      " 'BMW_740i_4_4_Liter_HAMANN_UMBAU_Mega_Optik' 'Volkswagen_Golf_1.6_United'\n",
      " ... 'Opel_Astra_F_Cabrio_Bertone_Edition___TÜV_neu+Reifen_neu_!!'\n",
      " 'Fiat_500_C_1.2_Dualogic_Lounge' 'Opel_Vectra_1.6_16V']\n",
      "----------------------------------------------------------------------------------\n",
      "Seller\n",
      "['privat']\n",
      "----------------------------------------------------------------------------------\n",
      "Offer_Type\n",
      "['Angebot']\n",
      "----------------------------------------------------------------------------------\n",
      "Price\n",
      "['$5,000' '$8,500' '$8,990' ... '$145,000' '$385' '$16,995']\n",
      "----------------------------------------------------------------------------------\n",
      "Abtest\n",
      "['control' 'test']\n",
      "----------------------------------------------------------------------------------\n",
      "Vehicle_Type\n",
      "['bus' 'limousine' 'kleinwagen' 'kombi' 'coupe' 'suv' 'cabrio' 'andere']\n",
      "----------------------------------------------------------------------------------\n",
      "Year_of_Registration\n",
      "[2004 1997 2009 2007 2003 1998 2010 1999 1990 2015 2014 1992 2002 2006\n",
      " 2012 2011 1995 2008 2005 1994 2001 2000 1996 2013 1972 1993 1988 1967\n",
      " 1973 1976 1987 1986 1983 1991 1969 1989 1978 2016 1977 1968 1934 1985\n",
      " 1982 1971 1984 1981 1970 1975 1979 1965 1966 2018 1964 1931 1974 1980\n",
      " 1941 1950 1963 1961 1937 1960 1956 1959 1955 1962 1958 1951]\n",
      "----------------------------------------------------------------------------------\n",
      "Gearbox\n",
      "['manuell' 'automatik']\n",
      "----------------------------------------------------------------------------------\n",
      "Horse_power\n",
      "[  158   286   102    71     0    90   101   205   124   320   184   306\n",
      "    54   110   204    60   218   140   131    75   122   150    86    43\n",
      "    95   435    84   116    80    99    65   170   143   113   193   177\n",
      "   163   385    63   151   109   145   179   250   105   120    50   126\n",
      "   160   183   174   239   136   560    55    88   344   232   135    73\n",
      "   129   436    53    68   211   245   125   128   241   224   231   325\n",
      "    58   197   133   111    82    83   185   173    92   190   100   200\n",
      "    81   107    64    45   517   315    69   360   155   258   326    33\n",
      "   115   141   147    94   156   103    85   130   117   275   114   256\n",
      "   299   207   118    87   394   220    74   272    76   280   420     1\n",
      "    98   333   165    61    89   108    70   106   400   313   247    59\n",
      "    26    67   387   192   265   180   367   345    48   381   328   223\n",
      "   310   382   146   169   230   182   408    77    52    78   186    79\n",
      "   123   166   235    41   194   188    72   279   196   139    11   132\n",
      "   340   300   284   226   209   121   234   269   349    96   525    37\n",
      "   409    40   144   354   355   152   206    44   292   171   271   500\n",
      "   321   212   334  6045    97   480    18   175   240   330    91    62\n",
      "    34   277   900  1781  1001   154   178   201   225   215   112   612\n",
      "    56   276   450   268    39   476    46   290   119   329   203   260\n",
      "   233   228   305   270    66   295   138   213   514   259   431   137\n",
      "   551   238     6   134   507   142   485   252   237   199   365   317\n",
      "   371   198   273   274   457    42   281   405   350   309   850   379\n",
      "   449   348  3750   555    93   515   181  6226   219   311   343   610\n",
      "   544   296   210   579    35    14    51   167    57   262   487   242\n",
      "   254  4400    29   222   455    19   176     5   162   571  1055   164\n",
      "   264   104    27   208   157   521   432   502   149   189   227   298\n",
      "   195   148    47   266 15001   489    10  2729   341   161  7511   356\n",
      "    24  1796   243  1398   374  1780   510  1800   127   678   347    49\n",
      "   530   386   380   490   421   415    23   430   950   370   362   587\n",
      " 16312 17700   249   407   236   318    20  1753   952   740   585  5867\n",
      "   473   504   202   214  1405   600     8    32   368  1998   396   388]\n",
      "----------------------------------------------------------------------------------\n",
      "Model\n",
      "['andere' '7er' 'golf' 'fortwo' 'focus' 'megane' 'a3' 'vectra' 'scirocco'\n",
      " '911' 'cooper' '5er' 'polo' 'e_klasse' '2_reihe' 'c_klasse' 'mondeo'\n",
      " 'altea' 'a1' 'twingo' 'a_klasse' 'cl' '3_reihe' 's_klasse' 'sandero'\n",
      " 'passat' 'primera' 'corsa' 'astra' 'micra' '3er' '1er' 'colt' 'a6'\n",
      " '6_reihe' 'a4' '5_reihe' 'ka' 'transporter' 'vito' 'cordoba' 'galaxy'\n",
      " '100' 'sharan' 'octavia' 'm_klasse' 'lupo' 'fiesta' 'superb' 'laguna'\n",
      " 'm_reihe' 'touareg' 'seicento' 'touran' 'clio' 'avensis' 'x_reihe'\n",
      " 'ducato' 'tigra' '1_reihe' 'boxster' 'signum' 'rav' 'a5' 'beetle'\n",
      " 'c_reihe' 'phaeton' 'i_reihe' 'sl' 'insignia' 'up' 'civic' '80' 'omega'\n",
      " 'sorento' 'z_reihe' 'berlingo' 'clk' 's_max' 'kalos' 'cx_reihe' 'grand'\n",
      " 'swift' 'vivaro' 'tiguan' 'sprinter' 'mii' 'almera' 'viano' 'picanto'\n",
      " 'mx_reihe' 'ibiza' 'espace' 'scenic' 'one' 'bora' 'fox' 'leon' 'transit'\n",
      " 'punto' 'qashqai' 'carnival' 'mustang' 'jazz' 'zafira' 'meriva' 'corolla'\n",
      " 'nubira' 'duster' 'kangoo' 'yaris' 'fabia' 'voyager' 'freelander'\n",
      " 'lancer' 'forester' 's_type' 'bravo' '500' '156' 'stilo' 'toledo' 'panda'\n",
      " 'a8' 'caddy' 'aygo' 'ceed' 'citigo' 'exeo' 'c1' 'v40' 'doblo' 'c_max'\n",
      " 'impreza' 'justy' 'tt' '145' 'c3' 'roomster' 'auris' '601' 'eos' 'aveo'\n",
      " 'slk' 'terios' 'agila' 'tucson' 'fusion' 'c4' 'glk' 'v50' 'combo' 'matiz'\n",
      " 'yeti' 'v70' '900' 'outlander' 'escort' 'c2' 'jimny' 'forfour' 'a2'\n",
      " 'b_klasse' '850' 'cayenne' 'r19' 'cc' 'note' 'logan' 'xc_reihe' 'verso'\n",
      " 'v_klasse' 'jetta' 'c5' 'q5' 'getz' 'navara' 'cr_reihe' 'x_type'\n",
      " 'clubman' 's60' '4_reihe' '147' 'arosa' 'carisma' 'q3' 'spider'\n",
      " 'cherokee' 'wrangler' 'q7' 'roadster' 'captiva' 'cuore' '90' 'ptcruiser'\n",
      " 'kuga' 'x_trail' 'ypsilon' 'pajero' 'delta' 'rx_reihe' 'sportage'\n",
      " 'calibra' 'sirion' 'kaefer' 'gl' 'amarok' 'santa' '300c' 'antara'\n",
      " 'accord' 'crossfire' '159' 'rio' 'lybra' 'niva' '6er' 'kadett' 'galant'\n",
      " 'legacy' 'defender' 'range_rover' 'juke' 'spark' 'lanos' 'v60' 'modus'\n",
      " 'alhambra' 'discovery' 'range_rover_sport' 'range_rover_evoque' 'move'\n",
      " 'croma' 'g_klasse' 'lodgy' 'rangerover' 'kappa' 'samara' '9000' '200'\n",
      " 'b_max' 'charade']\n",
      "----------------------------------------------------------------------------------\n",
      "Odometer\n",
      "['150,000km' '70,000km' '50,000km' '10,000km' '30,000km' '125,000km'\n",
      " '90,000km' '60,000km' '20,000km' '40,000km' '5,000km' '80,000km'\n",
      " '100,000km']\n",
      "----------------------------------------------------------------------------------\n",
      "Month_of_Registration\n",
      "[ 3  6  7 12  9 11  5  2  4  1 10  8  0]\n",
      "----------------------------------------------------------------------------------\n",
      "Fuel_Type\n",
      "['lpg' 'benzin' 'diesel' 'cng' 'hybrid' 'elektro' 'andere']\n",
      "----------------------------------------------------------------------------------\n",
      "Brand\n",
      "['peugeot' 'bmw' 'volkswagen' 'smart' 'ford' 'renault' 'audi' 'opel'\n",
      " 'mazda' 'porsche' 'mini' 'mercedes_benz' 'seat' 'toyota' 'dacia' 'nissan'\n",
      " 'saab' 'volvo' 'mitsubishi' 'jaguar' 'skoda' 'subaru' 'kia' 'fiat'\n",
      " 'citroen' 'chevrolet' 'hyundai' 'chrysler' 'honda' 'daewoo' 'suzuki'\n",
      " 'land_rover' 'alfa_romeo' 'trabant' 'daihatsu' 'jeep' 'rover' 'lancia'\n",
      " 'lada']\n",
      "----------------------------------------------------------------------------------\n",
      "Not_Repaired_Damage\n",
      "['nein' 'ja']\n",
      "----------------------------------------------------------------------------------\n",
      "Date_Created\n",
      "['2016-03-26 00:00:00' '2016-04-04 00:00:00' '2016-03-12 00:00:00'\n",
      " '2016-04-01 00:00:00' '2016-03-16 00:00:00' '2016-03-31 00:00:00'\n",
      " '2016-03-23 00:00:00' '2016-03-29 00:00:00' '2016-03-17 00:00:00'\n",
      " '2016-03-06 00:00:00' '2016-03-28 00:00:00' '2016-04-03 00:00:00'\n",
      " '2016-03-19 00:00:00' '2016-04-02 00:00:00' '2016-03-14 00:00:00'\n",
      " '2016-03-15 00:00:00' '2016-03-21 00:00:00' '2016-03-11 00:00:00'\n",
      " '2016-03-07 00:00:00' '2016-03-08 00:00:00' '2016-03-20 00:00:00'\n",
      " '2016-03-27 00:00:00' '2016-03-09 00:00:00' '2016-03-22 00:00:00'\n",
      " '2016-03-30 00:00:00' '2016-04-05 00:00:00' '2016-03-05 00:00:00'\n",
      " '2016-03-24 00:00:00' '2016-03-10 00:00:00' '2016-03-13 00:00:00'\n",
      " '2016-03-18 00:00:00' '2016-03-25 00:00:00' '2016-04-06 00:00:00'\n",
      " '2016-03-04 00:00:00' '2016-04-07 00:00:00' '2016-02-24 00:00:00'\n",
      " '2016-03-02 00:00:00' '2016-02-29 00:00:00' '2015-11-10 00:00:00'\n",
      " '2016-03-01 00:00:00' '2016-02-28 00:00:00' '2016-03-03 00:00:00'\n",
      " '2016-02-25 00:00:00' '2016-02-23 00:00:00' '2016-01-27 00:00:00'\n",
      " '2016-02-05 00:00:00' '2016-02-01 00:00:00' '2016-02-17 00:00:00'\n",
      " '2016-02-21 00:00:00' '2016-02-12 00:00:00' '2015-08-10 00:00:00'\n",
      " '2016-01-14 00:00:00' '2016-01-10 00:00:00' '2016-02-19 00:00:00'\n",
      " '2016-02-08 00:00:00' '2015-12-05 00:00:00' '2016-02-27 00:00:00'\n",
      " '2016-02-22 00:00:00' '2016-02-02 00:00:00' '2015-09-09 00:00:00'\n",
      " '2016-02-20 00:00:00' '2015-12-30 00:00:00' '2016-02-14 00:00:00'\n",
      " '2016-01-07 00:00:00' '2016-02-26 00:00:00' '2016-02-18 00:00:00'\n",
      " '2016-02-09 00:00:00']\n",
      "----------------------------------------------------------------------------------\n",
      "Nr_of_Pictures\n",
      "[0]\n",
      "----------------------------------------------------------------------------------\n",
      "Postal_Code\n",
      "[79588 71034 35394 ... 97475 97502 84385]\n",
      "----------------------------------------------------------------------------------\n",
      "Last_Seen\n",
      "['2016-04-06 06:45:54' '2016-04-06 14:45:08' '2016-04-06 20:15:37' ...\n",
      " '2016-04-02 14:18:02' '2016-04-04 11:47:27' '2016-04-06 21:18:48']\n",
      "----------------------------------------------------------------------------------\n"
     ]
    }
   ],
   "source": [
    "for col in df:\n",
    "    print(col)\n",
    "    print(df[col].unique())\n",
    "    print('----------------------------------------------------------------------------------')"
   ]
  },
  {
   "cell_type": "code",
   "execution_count": 15,
   "id": "48e2185d",
   "metadata": {},
   "outputs": [
    {
     "name": "stdout",
     "output_type": "stream",
     "text": [
      "Unique values presents in different columns and checking for missplled\n",
      "Seller column-->       ['privat']\n",
      "Offer_Type column-->   ['Angebot']\n",
      "Abtest column-->       ['control' 'test']\n",
      "Vehicle_Type column--> ['bus' 'limousine' 'kleinwagen' 'kombi' 'coupe' 'suv' 'cabrio' 'andere']\n",
      "Gearbox column-->      ['manuell' 'automatik']\n",
      "Fuel_Type column-->    ['lpg' 'benzin' 'diesel' 'cng' 'hybrid' 'elektro' 'andere']\n"
     ]
    }
   ],
   "source": [
    "print('Unique values presents in different columns and checking for missplled')\n",
    "print('Seller column-->      ',df.Seller.unique())\n",
    "print('Offer_Type column-->  ',df.Offer_Type.unique())\n",
    "print('Abtest column-->      ',df.Abtest.unique())\n",
    "print('Vehicle_Type column-->',df.Vehicle_Type.unique())\n",
    "print('Gearbox column-->     ',df.Gearbox.unique())\n",
    "print('Fuel_Type column-->   ',df.Fuel_Type.unique())\n"
   ]
  },
  {
   "cell_type": "markdown",
   "id": "5ef198c7",
   "metadata": {},
   "source": [
    "### Changing misspelled data "
   ]
  },
  {
   "cell_type": "code",
   "execution_count": 16,
   "id": "c51359d4",
   "metadata": {},
   "outputs": [],
   "source": [
    "df.replace({'Seller':{'privat':'Private','gewerblich':'Commercial'},\n",
    "           'Offer_Type':{'Angebot':'Proposal','Gesuch':'Wanted'},\n",
    "           'Gearbox':{'manuell':'Manual','automatik':'Automatic'},\n",
    "           'Not_Repaired_Damage':{'nein':'No','ja':'Yes'},\n",
    "           'Fuel_Type':{'elektro':'electronic','andere':'other','benzin':'petrol'},\n",
    "           'Vehicle_Type':{'andere':'other'}},inplace=True)"
   ]
  },
  {
   "cell_type": "markdown",
   "id": "401c0ebe",
   "metadata": {},
   "source": [
    "### correct words"
   ]
  },
  {
   "cell_type": "code",
   "execution_count": 17,
   "id": "43188463",
   "metadata": {},
   "outputs": [
    {
     "name": "stdout",
     "output_type": "stream",
     "text": [
      "Correct right spelled data\n",
      "Seller column-->              ['Private']\n",
      "Offer_Type column-->          ['Proposal']\n",
      "Abtest column-->              ['control' 'test']\n",
      "Vehicle_Type column-->        ['bus' 'limousine' 'kleinwagen' 'kombi' 'coupe' 'suv' 'cabrio' 'other']\n",
      "Gearbox column-->             ['Manual' 'Automatic']\n",
      "Fuel_Type column-->           ['lpg' 'petrol' 'diesel' 'cng' 'hybrid' 'electronic' 'other']\n",
      "Not_Repaired_Damage column--> ['No' 'Yes']\n"
     ]
    }
   ],
   "source": [
    "print('Correct right spelled data')\n",
    "print('Seller column-->             ',df.Seller.unique())\n",
    "print('Offer_Type column-->         ',df.Offer_Type.unique())\n",
    "print('Abtest column-->             ',df.Abtest.unique())\n",
    "print('Vehicle_Type column-->       ',df.Vehicle_Type.unique())\n",
    "print('Gearbox column-->            ',df.Gearbox.unique())\n",
    "print('Fuel_Type column-->          ',df.Fuel_Type.unique())\n",
    "print('Not_Repaired_Damage column-->',df.Not_Repaired_Damage.unique())"
   ]
  },
  {
   "cell_type": "markdown",
   "id": "c9036537",
   "metadata": {},
   "source": [
    "### Capitalizing column values"
   ]
  },
  {
   "cell_type": "code",
   "execution_count": 18,
   "id": "a471042a",
   "metadata": {},
   "outputs": [],
   "source": [
    "df['Brand'] = df['Brand'].map(str.title)\n",
    "df['Abtest'] = df['Abtest'].map(str.title)\n",
    "df['Fuel_Type'] = df['Fuel_Type'].str.title()\n",
    "df['Model'] = df['Model'].str.title()\n",
    "df['Vehicle_Type'] = df['Vehicle_Type'].str.title()\n",
    "\n",
    "df.replace({'Brand':{'Bmw':'BMW'}}, inplace =True)"
   ]
  },
  {
   "cell_type": "markdown",
   "id": "c5dde62b",
   "metadata": {},
   "source": [
    "### Splitting datetime columns in date and time"
   ]
  },
  {
   "cell_type": "code",
   "execution_count": 19,
   "id": "5abf308c",
   "metadata": {},
   "outputs": [],
   "source": [
    "df['Date_of_crawled'] = pd.to_datetime(df['Date_Crawled']).dt.date\n",
    "df['Time_of_crawled'] = pd.to_datetime(df['Date_Crawled']).dt.time\n",
    "df['Date_of_last_seen'] = pd.to_datetime(df['Last_Seen']).dt.date\n",
    "df['Time_of_last_seen'] = pd.to_datetime(df['Last_Seen']).dt.time\n",
    "\n",
    "df['Year_of_Registration'] = pd.to_datetime(df.Year_of_Registration, format='%Y').dt.year"
   ]
  },
  {
   "cell_type": "markdown",
   "id": "48710749",
   "metadata": {},
   "source": [
    "### Replacing string literal from price column and converting it into int"
   ]
  },
  {
   "cell_type": "code",
   "execution_count": 20,
   "id": "61dba187",
   "metadata": {},
   "outputs": [
    {
     "name": "stderr",
     "output_type": "stream",
     "text": [
      "C:\\Users\\admin\\AppData\\Local\\Temp\\ipykernel_3476\\182771494.py:1: FutureWarning: The default value of regex will change from True to False in a future version. In addition, single character regular expressions will *not* be treated as literal strings when regex=True.\n",
      "  df['Price_in_dollars'] = df['Price'].str.replace(',', '').str.replace('$', '')\n"
     ]
    }
   ],
   "source": [
    "df['Price_in_dollars'] = df['Price'].str.replace(',', '').str.replace('$', '')\n",
    "df['Odometer'] = df['Odometer'].str.replace(',', '').str.replace('km','')"
   ]
  },
  {
   "cell_type": "markdown",
   "id": "aacfcbe7",
   "metadata": {},
   "source": [
    "### Dropping Uneccessary columns"
   ]
  },
  {
   "cell_type": "code",
   "execution_count": 21,
   "id": "6be1dd28",
   "metadata": {},
   "outputs": [],
   "source": [
    "df.drop(columns=['Date_Crawled','Date_Created','Nr_of_Pictures','Last_Seen','Price'],inplace=True)\n",
    "df['Price_Unit'] = '$'\n",
    "df['Odometer_unit'] = 'Km'"
   ]
  },
  {
   "cell_type": "markdown",
   "id": "7b1eec00",
   "metadata": {},
   "source": [
    "### Data Type conversions "
   ]
  },
  {
   "cell_type": "code",
   "execution_count": 22,
   "id": "6e758cb9",
   "metadata": {},
   "outputs": [],
   "source": [
    "df[['Odometer','Price_in_dollars']] = df[['Odometer','Price_in_dollars']].astype(\"int64\")\n"
   ]
  },
  {
   "cell_type": "code",
   "execution_count": 23,
   "id": "d1606512",
   "metadata": {},
   "outputs": [
    {
     "data": {
      "text/plain": [
       "Name                     object\n",
       "Seller                   object\n",
       "Offer_Type               object\n",
       "Abtest                   object\n",
       "Vehicle_Type             object\n",
       "Year_of_Registration      int64\n",
       "Gearbox                  object\n",
       "Horse_power               int64\n",
       "Model                    object\n",
       "Odometer                  int64\n",
       "Month_of_Registration     int64\n",
       "Fuel_Type                object\n",
       "Brand                    object\n",
       "Not_Repaired_Damage      object\n",
       "Postal_Code               int64\n",
       "Date_of_crawled          object\n",
       "Time_of_crawled          object\n",
       "Date_of_last_seen        object\n",
       "Time_of_last_seen        object\n",
       "Price_in_dollars          int64\n",
       "Price_Unit               object\n",
       "Odometer_unit            object\n",
       "dtype: object"
      ]
     },
     "execution_count": 23,
     "metadata": {},
     "output_type": "execute_result"
    }
   ],
   "source": [
    "df.dtypes"
   ]
  },
  {
   "cell_type": "markdown",
   "id": "3011b3af",
   "metadata": {},
   "source": [
    "### Reseting index"
   ]
  },
  {
   "cell_type": "code",
   "execution_count": 24,
   "id": "5a481c44",
   "metadata": {},
   "outputs": [],
   "source": [
    "df.reset_index(drop=True, inplace=True)"
   ]
  },
  {
   "cell_type": "markdown",
   "id": "9d4adfe7",
   "metadata": {},
   "source": [
    "### Reseting columns to desired output"
   ]
  },
  {
   "cell_type": "code",
   "execution_count": 25,
   "id": "14a1202c",
   "metadata": {},
   "outputs": [
    {
     "data": {
      "text/plain": [
       "Index(['Name', 'Seller', 'Offer_Type', 'Abtest', 'Vehicle_Type',\n",
       "       'Year_of_Registration', 'Gearbox', 'Horse_power', 'Model', 'Odometer',\n",
       "       'Month_of_Registration', 'Fuel_Type', 'Brand', 'Not_Repaired_Damage',\n",
       "       'Postal_Code', 'Date_of_crawled', 'Time_of_crawled',\n",
       "       'Date_of_last_seen', 'Time_of_last_seen', 'Price_in_dollars',\n",
       "       'Price_Unit', 'Odometer_unit'],\n",
       "      dtype='object')"
      ]
     },
     "execution_count": 25,
     "metadata": {},
     "output_type": "execute_result"
    }
   ],
   "source": [
    "df.columns"
   ]
  },
  {
   "cell_type": "code",
   "execution_count": 26,
   "id": "25361f85",
   "metadata": {},
   "outputs": [],
   "source": [
    "df = df.iloc[:,[0,1,2,3,4,5,6,7,8,-3,-2,9,-1,10,11,12,13,14,15,16,17,18]]"
   ]
  },
  {
   "cell_type": "markdown",
   "id": "b9395e93",
   "metadata": {},
   "source": [
    "# Descriptive analysis"
   ]
  },
  {
   "cell_type": "code",
   "execution_count": 27,
   "id": "f2000d42",
   "metadata": {},
   "outputs": [
    {
     "data": {
      "text/html": [
       "<div>\n",
       "<style scoped>\n",
       "    .dataframe tbody tr th:only-of-type {\n",
       "        vertical-align: middle;\n",
       "    }\n",
       "\n",
       "    .dataframe tbody tr th {\n",
       "        vertical-align: top;\n",
       "    }\n",
       "\n",
       "    .dataframe thead th {\n",
       "        text-align: right;\n",
       "    }\n",
       "</style>\n",
       "<table border=\"1\" class=\"dataframe\">\n",
       "  <thead>\n",
       "    <tr style=\"text-align: right;\">\n",
       "      <th></th>\n",
       "      <th>Year_of_Registration</th>\n",
       "      <th>Horse_power</th>\n",
       "      <th>Price_in_dollars</th>\n",
       "      <th>Odometer</th>\n",
       "      <th>Month_of_Registration</th>\n",
       "      <th>Postal_Code</th>\n",
       "    </tr>\n",
       "  </thead>\n",
       "  <tbody>\n",
       "    <tr>\n",
       "      <th>count</th>\n",
       "      <td>35047.0</td>\n",
       "      <td>35047.0</td>\n",
       "      <td>35047.0</td>\n",
       "      <td>35047.0</td>\n",
       "      <td>35047.0</td>\n",
       "      <td>35047.0</td>\n",
       "    </tr>\n",
       "    <tr>\n",
       "      <th>mean</th>\n",
       "      <td>2003.4</td>\n",
       "      <td>127.4</td>\n",
       "      <td>7442.6</td>\n",
       "      <td>124172.8</td>\n",
       "      <td>6.2</td>\n",
       "      <td>51778.7</td>\n",
       "    </tr>\n",
       "    <tr>\n",
       "      <th>std</th>\n",
       "      <td>6.5</td>\n",
       "      <td>182.5</td>\n",
       "      <td>89491.4</td>\n",
       "      <td>39725.8</td>\n",
       "      <td>3.5</td>\n",
       "      <td>25809.2</td>\n",
       "    </tr>\n",
       "    <tr>\n",
       "      <th>min</th>\n",
       "      <td>1931.0</td>\n",
       "      <td>0.0</td>\n",
       "      <td>0.0</td>\n",
       "      <td>5000.0</td>\n",
       "      <td>0.0</td>\n",
       "      <td>1067.0</td>\n",
       "    </tr>\n",
       "    <tr>\n",
       "      <th>25%</th>\n",
       "      <td>1999.0</td>\n",
       "      <td>80.0</td>\n",
       "      <td>1500.0</td>\n",
       "      <td>100000.0</td>\n",
       "      <td>3.0</td>\n",
       "      <td>31199.0</td>\n",
       "    </tr>\n",
       "    <tr>\n",
       "      <th>50%</th>\n",
       "      <td>2004.0</td>\n",
       "      <td>116.0</td>\n",
       "      <td>3800.0</td>\n",
       "      <td>150000.0</td>\n",
       "      <td>6.0</td>\n",
       "      <td>51063.0</td>\n",
       "    </tr>\n",
       "    <tr>\n",
       "      <th>75%</th>\n",
       "      <td>2008.0</td>\n",
       "      <td>150.0</td>\n",
       "      <td>8600.0</td>\n",
       "      <td>150000.0</td>\n",
       "      <td>9.0</td>\n",
       "      <td>72760.0</td>\n",
       "    </tr>\n",
       "    <tr>\n",
       "      <th>max</th>\n",
       "      <td>2018.0</td>\n",
       "      <td>17700.0</td>\n",
       "      <td>12345678.0</td>\n",
       "      <td>150000.0</td>\n",
       "      <td>12.0</td>\n",
       "      <td>99998.0</td>\n",
       "    </tr>\n",
       "  </tbody>\n",
       "</table>\n",
       "</div>"
      ],
      "text/plain": [
       "       Year_of_Registration  Horse_power  Price_in_dollars  Odometer  \\\n",
       "count               35047.0      35047.0           35047.0   35047.0   \n",
       "mean                 2003.4        127.4            7442.6  124172.8   \n",
       "std                     6.5        182.5           89491.4   39725.8   \n",
       "min                  1931.0          0.0               0.0    5000.0   \n",
       "25%                  1999.0         80.0            1500.0  100000.0   \n",
       "50%                  2004.0        116.0            3800.0  150000.0   \n",
       "75%                  2008.0        150.0            8600.0  150000.0   \n",
       "max                  2018.0      17700.0        12345678.0  150000.0   \n",
       "\n",
       "       Month_of_Registration  Postal_Code  \n",
       "count                35047.0      35047.0  \n",
       "mean                     6.2      51778.7  \n",
       "std                      3.5      25809.2  \n",
       "min                      0.0       1067.0  \n",
       "25%                      3.0      31199.0  \n",
       "50%                      6.0      51063.0  \n",
       "75%                      9.0      72760.0  \n",
       "max                     12.0      99998.0  "
      ]
     },
     "execution_count": 27,
     "metadata": {},
     "output_type": "execute_result"
    }
   ],
   "source": [
    "df.describe().round(1)"
   ]
  },
  {
   "cell_type": "markdown",
   "id": "347210cf",
   "metadata": {},
   "source": [
    "### Top 5 Most expensive brand car sell on ebay till date"
   ]
  },
  {
   "cell_type": "code",
   "execution_count": 28,
   "id": "cc7f8315",
   "metadata": {},
   "outputs": [
    {
     "data": {
      "text/html": [
       "<div>\n",
       "<style scoped>\n",
       "    .dataframe tbody tr th:only-of-type {\n",
       "        vertical-align: middle;\n",
       "    }\n",
       "\n",
       "    .dataframe tbody tr th {\n",
       "        vertical-align: top;\n",
       "    }\n",
       "\n",
       "    .dataframe thead th {\n",
       "        text-align: right;\n",
       "    }\n",
       "</style>\n",
       "<table border=\"1\" class=\"dataframe\">\n",
       "  <thead>\n",
       "    <tr style=\"text-align: right;\">\n",
       "      <th></th>\n",
       "      <th></th>\n",
       "      <th>Price_in_dollars</th>\n",
       "    </tr>\n",
       "    <tr>\n",
       "      <th>Brand</th>\n",
       "      <th>Year_of_Registration</th>\n",
       "      <th></th>\n",
       "    </tr>\n",
       "  </thead>\n",
       "  <tbody>\n",
       "    <tr>\n",
       "      <th>Opel</th>\n",
       "      <th>2001</th>\n",
       "      <td>12345678</td>\n",
       "    </tr>\n",
       "    <tr>\n",
       "      <th rowspan=\"2\" valign=\"top\">Ford</th>\n",
       "      <th>1973</th>\n",
       "      <td>11111111</td>\n",
       "    </tr>\n",
       "    <tr>\n",
       "      <th>2009</th>\n",
       "      <td>999999</td>\n",
       "    </tr>\n",
       "    <tr>\n",
       "      <th>Volkswagen</th>\n",
       "      <th>1985</th>\n",
       "      <td>999990</td>\n",
       "    </tr>\n",
       "    <tr>\n",
       "      <th>Porsche</th>\n",
       "      <th>2016</th>\n",
       "      <td>350000</td>\n",
       "    </tr>\n",
       "  </tbody>\n",
       "</table>\n",
       "</div>"
      ],
      "text/plain": [
       "                                 Price_in_dollars\n",
       "Brand      Year_of_Registration                  \n",
       "Opel       2001                          12345678\n",
       "Ford       1973                          11111111\n",
       "           2009                            999999\n",
       "Volkswagen 1985                            999990\n",
       "Porsche    2016                            350000"
      ]
     },
     "execution_count": 28,
     "metadata": {},
     "output_type": "execute_result"
    }
   ],
   "source": [
    "df.groupby(['Brand','Year_of_Registration']).agg({'Price_in_dollars':np.max}).sort_values(by='Price_in_dollars',ascending=False).head(5)"
   ]
  },
  {
   "cell_type": "markdown",
   "id": "f79c09ae",
   "metadata": {},
   "source": [
    "### "
   ]
  },
  {
   "cell_type": "markdown",
   "id": "ae29182e",
   "metadata": {},
   "source": [
    "### Which brand has more horsepower"
   ]
  },
  {
   "cell_type": "code",
   "execution_count": 29,
   "id": "80db84a0",
   "metadata": {},
   "outputs": [
    {
     "data": {
      "text/html": [
       "<div>\n",
       "<style scoped>\n",
       "    .dataframe tbody tr th:only-of-type {\n",
       "        vertical-align: middle;\n",
       "    }\n",
       "\n",
       "    .dataframe tbody tr th {\n",
       "        vertical-align: top;\n",
       "    }\n",
       "\n",
       "    .dataframe thead th {\n",
       "        text-align: right;\n",
       "    }\n",
       "</style>\n",
       "<table border=\"1\" class=\"dataframe\">\n",
       "  <thead>\n",
       "    <tr style=\"text-align: right;\">\n",
       "      <th></th>\n",
       "      <th>Horse_power</th>\n",
       "    </tr>\n",
       "    <tr>\n",
       "      <th>Brand</th>\n",
       "      <th></th>\n",
       "    </tr>\n",
       "  </thead>\n",
       "  <tbody>\n",
       "    <tr>\n",
       "      <th>BMW</th>\n",
       "      <td>17700</td>\n",
       "    </tr>\n",
       "    <tr>\n",
       "      <th>Audi</th>\n",
       "      <td>16312</td>\n",
       "    </tr>\n",
       "    <tr>\n",
       "      <th>Ford</th>\n",
       "      <td>15001</td>\n",
       "    </tr>\n",
       "    <tr>\n",
       "      <th>Renault</th>\n",
       "      <td>7511</td>\n",
       "    </tr>\n",
       "    <tr>\n",
       "      <th>Smart</th>\n",
       "      <td>6226</td>\n",
       "    </tr>\n",
       "  </tbody>\n",
       "</table>\n",
       "</div>"
      ],
      "text/plain": [
       "         Horse_power\n",
       "Brand               \n",
       "BMW            17700\n",
       "Audi           16312\n",
       "Ford           15001\n",
       "Renault         7511\n",
       "Smart           6226"
      ]
     },
     "execution_count": 29,
     "metadata": {},
     "output_type": "execute_result"
    }
   ],
   "source": [
    "df.groupby('Brand').agg({'Horse_power':np.max}).sort_values(by='Horse_power',ascending=False).head(5)"
   ]
  },
  {
   "cell_type": "markdown",
   "id": "c3220646",
   "metadata": {},
   "source": [
    "### Most sellable brand over ebay"
   ]
  },
  {
   "cell_type": "code",
   "execution_count": 30,
   "id": "d0a8ab5c",
   "metadata": {},
   "outputs": [
    {
     "data": {
      "text/plain": [
       "Brand\n",
       "Volkswagen       7239\n",
       "BMW              4097\n",
       "Opel             3592\n",
       "Mercedes_Benz    3587\n",
       "Audi             3208\n",
       "Name: Name, dtype: int64"
      ]
     },
     "execution_count": 30,
     "metadata": {},
     "output_type": "execute_result"
    }
   ],
   "source": [
    "df.groupby('Brand')['Name'].count().sort_values(ascending=False).head(5)"
   ]
  },
  {
   "cell_type": "markdown",
   "id": "9ea4365c",
   "metadata": {},
   "source": [
    "### In which Month the maximum sale happens"
   ]
  },
  {
   "cell_type": "code",
   "execution_count": 31,
   "id": "8705af74",
   "metadata": {},
   "outputs": [
    {
     "data": {
      "text/plain": [
       "Date_of_last_seen\n",
       "4    20930\n",
       "3    14117\n",
       "Name: Name, dtype: int64"
      ]
     },
     "execution_count": 31,
     "metadata": {},
     "output_type": "execute_result"
    }
   ],
   "source": [
    "df.groupby(pd.DatetimeIndex(df['Date_of_last_seen']).month)['Name'].count().sort_values(ascending=False)"
   ]
  },
  {
   "cell_type": "markdown",
   "id": "3cd1b747",
   "metadata": {},
   "source": [
    "### Which brand generating maximum value for ebay"
   ]
  },
  {
   "cell_type": "code",
   "execution_count": 32,
   "id": "5095131d",
   "metadata": {},
   "outputs": [],
   "source": [
    "import matplotlib.pyplot as plt"
   ]
  },
  {
   "cell_type": "code",
   "execution_count": 33,
   "id": "9b1a9f74",
   "metadata": {},
   "outputs": [
    {
     "data": {
      "image/png": "[encoded data removed]",
      "text/plain": [
       "<Figure size 640x480 with 1 Axes>"
      ]
     },
     "metadata": {},
     "output_type": "display_data"
    }
   ],
   "source": [
    "df.groupby('Brand')['Price_in_dollars'].sum().sort_values(ascending=True).tail(10).plot.barh(color='skyblue')\n",
    "plt.yticks(fontsize=10)\n",
    "plt.show()"
   ]
  },
  {
   "cell_type": "markdown",
   "id": "a9b993b7",
   "metadata": {},
   "source": [
    "# Volkswagen is the key player for eBay"
   ]
  }
 ],
 "metadata": {
  "kernelspec": {
   "display_name": "Python 3 (ipykernel)",
   "language": "python",
   "name": "python3"
  },
  "language_info": {
   "codemirror_mode": {
    "name": "ipython",
    "version": 3
   },
   "file_extension": ".py",
   "mimetype": "text/x-python",
   "name": "python",
   "nbconvert_exporter": "python",
   "pygments_lexer": "ipython3",
   "version": "3.10.6"
  }
 },
 "nbformat": 4,
 "nbformat_minor": 5
}
